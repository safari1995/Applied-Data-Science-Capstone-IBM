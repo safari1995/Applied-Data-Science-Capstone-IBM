{
 "cells": [
  {
   "cell_type": "code",
   "execution_count": 1,
   "id": "4eec312d",
   "metadata": {
    "scrolled": true
   },
   "outputs": [
    {
     "name": "stderr",
     "output_type": "stream",
     "text": [
      "C:\\Users\\DearUser\\AppData\\Local\\Temp/ipykernel_532/3068437729.py:4: UserWarning: \n",
      "The dash_html_components package is deprecated. Please replace\n",
      "`import dash_html_components as html` with `from dash import html`\n",
      "  import dash_html_components as html\n",
      "C:\\Users\\DearUser\\AppData\\Local\\Temp/ipykernel_532/3068437729.py:5: UserWarning: \n",
      "The dash_core_components package is deprecated. Please replace\n",
      "`import dash_core_components as dcc` with `from dash import dcc`\n",
      "  import dash_core_components as dcc\n"
     ]
    }
   ],
   "source": [
    "# Import required libraries\n",
    "import pandas as pd\n",
    "import dash\n",
    "import dash_html_components as html\n",
    "import dash_core_components as dcc\n",
    "from dash.dependencies import Input, Output\n",
    "import plotly.express as px\n",
    "\n"
   ]
  },
  {
   "cell_type": "code",
   "execution_count": 2,
   "id": "46cc237e",
   "metadata": {},
   "outputs": [],
   "source": [
    "# Load SpaceX launch data\n",
    "spacex_df = pd.read_csv('spacex_launch_dash.csv')\n",
    "max_payload = spacex_df['Payload Mass (kg)'].max()\n",
    "min_payload = spacex_df['Payload Mass (kg)'].min()"
   ]
  },
  {
   "cell_type": "code",
   "execution_count": 3,
   "id": "d4b42ac1",
   "metadata": {},
   "outputs": [
    {
     "data": {
      "text/html": [
       "\n",
       "        <iframe\n",
       "            width=\"100%\"\n",
       "            height=\"650\"\n",
       "            src=\"http://127.0.0.1:8050/\"\n",
       "            frameborder=\"0\"\n",
       "            allowfullscreen\n",
       "            \n",
       "        ></iframe>\n",
       "        "
      ],
      "text/plain": [
       "<IPython.lib.display.IFrame at 0x1cf0e126a00>"
      ]
     },
     "metadata": {},
     "output_type": "display_data"
    }
   ],
   "source": [
    "app = dash.Dash(__name__)\n",
    "\n",
    "app.layout = html.Div([\n",
    "    html.H1(\"SpaceX Launch Records Dashboard\"),\n",
    "    dcc.Dropdown(\n",
    "        id='site-dropdown',\n",
    "        options=[\n",
    "            {'label': 'All Sites', 'value': 'ALL'},\n",
    "            {'label': 'CCAFS LC-40', 'value': 'CCAFS LC-40'},\n",
    "            {'label': 'VAFB SLC-4E', 'value': 'VAFB SLC-4E'},\n",
    "            {'label': 'KSC LC-39A', 'value': 'KSC LC-39A'},\n",
    "            {'label': 'CCAFS SLC-40', 'value': 'CCAFS SLC-40'}\n",
    "        ],\n",
    "        value='ALL',\n",
    "        placeholder=\"Select a Launch Site\",\n",
    "        searchable=True\n",
    "    ),\n",
    "    html.Br(),\n",
    "    dcc.Graph(id='success-pie-chart'),\n",
    "    html.Br(),\n",
    "    dcc.RangeSlider(\n",
    "        id='payload-slider',\n",
    "        min=0, max=10000, step=1000,\n",
    "        marks={0: '0', 2500: '2500', 5000: '5000', 7500: '7500', 10000: '10000'},\n",
    "        value=[0, 10000]\n",
    "    ),\n",
    "    html.Br(),\n",
    "    dcc.Graph(id='success-payload-scatter-chart')\n",
    "])\n",
    "\n",
    "\n",
    "@app.callback(\n",
    "    Output('success-pie-chart', 'figure'),\n",
    "    Input('site-dropdown', 'value')\n",
    ")\n",
    "def update_pie_chart(selected_site):\n",
    "    if selected_site == 'ALL':\n",
    "        fig = px.pie(spacex_df, values='class', names='Launch Site', title='Total Success Launches by Site')\n",
    "    else:\n",
    "        filtered_df = spacex_df[spacex_df['Launch Site'] == selected_site]\n",
    "        fig = px.pie(filtered_df, names='class', title=f'Total Success Launches for site {selected_site}')\n",
    "    return fig\n",
    "\n",
    "\n",
    "@app.callback(\n",
    "    Output('success-payload-scatter-chart', 'figure'),\n",
    "    [Input('site-dropdown', 'value'),\n",
    "     Input('payload-slider', 'value')]\n",
    ")\n",
    "def update_scatter_chart(selected_site, payload_range):\n",
    "    low, high = payload_range\n",
    "    filtered_df = spacex_df[(spacex_df['Payload Mass (kg)'] >= low) & (spacex_df['Payload Mass (kg)'] <= high)]\n",
    "    if selected_site == 'ALL':\n",
    "        fig = px.scatter(filtered_df, x='Payload Mass (kg)', y='class', color='Booster Version Category',\n",
    "                         title='Correlation between Payload and Success for all Sites')\n",
    "    else:\n",
    "        filtered_df = filtered_df[filtered_df['Launch Site'] == selected_site]\n",
    "        fig = px.scatter(filtered_df, x='Payload Mass (kg)', y='class', color='Booster Version Category',\n",
    "                         title=f'Correlation between Payload and Success for site {selected_site}')\n",
    "    return fig\n",
    "\n",
    "\n",
    "if __name__ == '__main__':\n",
    "    app.run_server(debug=True)\n"
   ]
  },
  {
   "cell_type": "code",
   "execution_count": null,
   "id": "0a000582",
   "metadata": {},
   "outputs": [],
   "source": []
  }
 ],
 "metadata": {
  "kernelspec": {
   "display_name": "Python 3 (ipykernel)",
   "language": "python",
   "name": "python3"
  },
  "language_info": {
   "codemirror_mode": {
    "name": "ipython",
    "version": 3
   },
   "file_extension": ".py",
   "mimetype": "text/x-python",
   "name": "python",
   "nbconvert_exporter": "python",
   "pygments_lexer": "ipython3",
   "version": "3.9.7"
  }
 },
 "nbformat": 4,
 "nbformat_minor": 5
}
